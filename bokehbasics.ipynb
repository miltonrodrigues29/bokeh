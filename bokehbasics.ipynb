{
 "cells": [
  {
   "cell_type": "code",
   "execution_count": 43,
   "metadata": {},
   "outputs": [],
   "source": [
    "\n",
    "from bokeh.plotting import figure, output_file, show\n",
    "import pandas\n",
    "\n",
    "#prepare some data\n",
    "df= pandas.read_csv(\"bachelors.csv\")\n",
    "x=df[\"Year\"]\n",
    "y=df[\"Engineering\"]\n",
    "#prepare the output file\n",
    "output_file(\"Line.html\")\n",
    "#create a figure object \n",
    "f=figure(plot_width=500,plot_height=400, tools='pan')\n",
    "#create line plot\n",
    "f.line(x,y)\n",
    "show(f)"
   ]
  },
  {
   "cell_type": "code",
   "execution_count": 27,
   "metadata": {},
   "outputs": [
    {
     "ename": "SyntaxError",
     "evalue": "invalid syntax (<ipython-input-27-a77f27006db6>, line 11)",
     "output_type": "error",
     "traceback": [
      "\u001b[1;36m  File \u001b[1;32m\"<ipython-input-27-a77f27006db6>\"\u001b[1;36m, line \u001b[1;32m11\u001b[0m\n\u001b[1;33m    f=figure(plot_width=500,plot_height=400, tools='pan'e)\u001b[0m\n\u001b[1;37m                                                        ^\u001b[0m\n\u001b[1;31mSyntaxError\u001b[0m\u001b[1;31m:\u001b[0m invalid syntax\n"
     ]
    }
   ],
   "source": []
  },
  {
   "cell_type": "code",
   "execution_count": 42,
   "metadata": {},
   "outputs": [],
   "source": [
    "from bokeh.plotting import figure, output_file, show\n",
    "import pandas\n",
    "\n",
    "#prepare some data\n",
    "df= pandas.read_excel(\"verlegenhuken.xlsx\")\n",
    "x=df[\"Temperature\"]/10\n",
    "y=df[\"Pressure\"]/10\n",
    "\n",
    "\n",
    "#prepare the output file\n",
    "output_file(\"Line.html\")\n",
    "#create a figure object \n",
    "f=figure(plot_width=500,plot_height=400, tools='pan')\n",
    "f.title.text = \"Milton\"\n",
    "f.title.text_color= \"orange\"\n",
    "#create line plot\n",
    "f.circle(x,y)\n",
    "show(f)"
   ]
  },
  {
   "cell_type": "code",
   "execution_count": 50,
   "metadata": {},
   "outputs": [],
   "source": [
    "from bokeh.plotting import figure, output_file, show\n",
    "import pandas\n",
    "\n",
    "df= pandas.read_csv(\"https://query1.finance.yahoo.com/v7/finance/download/%5EIXIC?period1=1230768000&period2=1341014400&interval=1d&events=history \",parse_dates=[\"Date\"])\n",
    "\n",
    "p=figure(width=500, height = 250, x_axis_type =\"datetime\")\n",
    "\n",
    "p.line(df[\"Date\"], df[\"Close\"], color=\"Orange\", alpha =0.5)\n",
    "\n",
    "output_file(\"Timeseries.html\")\n",
    "show(p)"
   ]
  },
  {
   "cell_type": "code",
   "execution_count": 5,
   "metadata": {},
   "outputs": [],
   "source": []
  },
  {
   "cell_type": "code",
   "execution_count": 6,
   "metadata": {},
   "outputs": [],
   "source": []
  },
  {
   "cell_type": "code",
   "execution_count": null,
   "metadata": {},
   "outputs": [],
   "source": []
  },
  {
   "cell_type": "code",
   "execution_count": 24,
   "metadata": {},
   "outputs": [],
   "source": []
  },
  {
   "cell_type": "code",
   "execution_count": 18,
   "metadata": {},
   "outputs": [
    {
     "name": "stdout",
     "output_type": "stream",
     "text": [
      "\n"
     ]
    }
   ],
   "source": []
  },
  {
   "cell_type": "code",
   "execution_count": null,
   "metadata": {},
   "outputs": [],
   "source": []
  }
 ],
 "metadata": {
  "kernelspec": {
   "display_name": "Python 3",
   "language": "python",
   "name": "python3"
  },
  "language_info": {
   "codemirror_mode": {
    "name": "ipython",
    "version": 3
   },
   "file_extension": ".py",
   "mimetype": "text/x-python",
   "name": "python",
   "nbconvert_exporter": "python",
   "pygments_lexer": "ipython3",
   "version": "3.8.2"
  }
 },
 "nbformat": 4,
 "nbformat_minor": 4
}
